{
 "cells": [
  {
   "cell_type": "code",
   "execution_count": 42,
   "metadata": {},
   "outputs": [],
   "source": [
    "#Importing important libraries\n",
    "import numpy as np\n",
    "from scipy.linalg import fractional_matrix_power\n",
    "float_formatter = lambda x: \"%.3f\" % x\n",
    "np.set_printoptions(formatter={'float_kind':float_formatter})\n"
   ]
  },
  {
   "cell_type": "code",
   "execution_count": 46,
   "metadata": {},
   "outputs": [
    {
     "name": "stdout",
     "output_type": "stream",
     "text": [
      "Adjacency matrix:\n",
      "[[0.000 0.800 0.600 0.000 0.100 0.000]\n",
      " [0.800 0.000 0.800 0.000 0.000 0.000]\n",
      " [0.600 0.800 0.000 0.200 0.000 0.000]\n",
      " [0.000 0.000 0.200 0.000 0.800 0.700]\n",
      " [0.100 0.000 0.000 0.800 0.000 0.800]\n",
      " [0.000 0.000 0.000 0.700 0.800 0.000]]\n"
     ]
    }
   ],
   "source": [
    "A = np.array([[0.0 , 0.8 , 0.6 , 0.0 , 0.1 , 0.0 ],[ 0.8 , 0.0 , 0.8 , 0.0 , 0.0 , 0.0 ],[ 0.6 , 0.8 , 0.0 , 0.2 , 0.0 , 0.0 ],[ 0.0 , 0.0 , 0.2 , 0.0 , 0.8 , 0.7 ],[ 0.1 , 0.0 , 0.0 , 0.8 , 0.0 , 0.8 ],[ 0.0 , 0.0 , 0.0 , 0.7 , 0.8 , 0.0 ]])\n",
    "print('Adjacency matrix:')\n",
    "print(A)"
   ]
  },
  {
   "cell_type": "code",
   "execution_count": 47,
   "metadata": {},
   "outputs": [
    {
     "name": "stdout",
     "output_type": "stream",
     "text": [
      "Degree matrix:\n",
      "[[1.500 0.000 0.000 0.000 0.000 0.000]\n",
      " [0.000 1.600 0.000 0.000 0.000 0.000]\n",
      " [0.000 0.000 1.600 0.000 0.000 0.000]\n",
      " [0.000 0.000 0.000 1.700 0.000 0.000]\n",
      " [0.000 0.000 0.000 0.000 1.700 0.000]\n",
      " [0.000 0.000 0.000 0.000 0.000 1.500]]\n",
      "Unnormalized Laplacian matrix:\n",
      "[[1.500 -0.800 -0.600 0.000 -0.100 0.000]\n",
      " [-0.800 1.600 -0.800 0.000 0.000 0.000]\n",
      " [-0.600 -0.800 1.600 -0.200 0.000 0.000]\n",
      " [0.000 0.000 -0.200 1.700 -0.800 -0.700]\n",
      " [-0.100 0.000 0.000 -0.800 1.700 -0.800]\n",
      " [0.000 0.000 0.000 -0.700 -0.800 1.500]]\n",
      "Normalized Laplacian matrix:\n",
      "[[1.225 -0.653 -0.490 0.000 -0.082 0.000]\n",
      " [-0.632 1.265 -0.632 0.000 0.000 0.000]\n",
      " [-0.474 -0.632 1.265 -0.158 0.000 0.000]\n",
      " [0.000 0.000 -0.153 1.304 -0.614 -0.537]\n",
      " [-0.077 0.000 0.000 -0.614 1.304 -0.614]\n",
      " [0.000 0.000 0.000 -0.572 -0.653 1.225]]\n"
     ]
    }
   ],
   "source": [
    "# degree matrix\n",
    "D = np.diag(np.sum(np.array(A), axis=1))\n",
    "print('Degree matrix:')\n",
    "print(D)\n",
    "# laplacian matrix\n",
    "LU = D - A\n",
    "print('Unnormalized Laplacian matrix:')\n",
    "print(LU)\n",
    "LN = np.matmul(fractional_matrix_power(D,-0.5),LU,fractional_matrix_power(D,-0.5))\n",
    "print('Normalized Laplacian matrix:')\n",
    "print(LN)"
   ]
  },
  {
   "cell_type": "code",
   "execution_count": 54,
   "metadata": {},
   "outputs": [
    {
     "name": "stdout",
     "output_type": "stream",
     "text": [
      "eigenvalues:\n",
      "[0.000 0.188 2.084 2.285 2.469 2.573]\n",
      "eigenvectors:\n",
      "[[-0.408 -0.408 0.647 0.305 -0.379 -0.106]\n",
      " [-0.408 -0.442 -0.014 -0.305 0.706 -0.215]\n",
      " [-0.408 -0.371 -0.638 -0.045 -0.388 0.368]\n",
      " [-0.408 0.371 -0.339 0.455 -0.001 -0.612]\n",
      " [-0.408 0.405 0.166 0.305 0.351 0.652]\n",
      " [-0.408 0.445 0.178 -0.716 -0.289 -0.087]]\n"
     ]
    }
   ],
   "source": [
    "e, v = np.linalg.eig(LU)\n",
    "# eigenvalues\n",
    "print('eigenvalues:')\n",
    "print(e)\n",
    "# eigenvectors\n",
    "print('eigenvectors:')\n",
    "print(np.around(v,decimals=3))"
   ]
  },
  {
   "cell_type": "code",
   "execution_count": null,
   "metadata": {},
   "outputs": [],
   "source": []
  }
 ],
 "metadata": {
  "kernelspec": {
   "display_name": "Python 3",
   "language": "python",
   "name": "python3"
  },
  "language_info": {
   "codemirror_mode": {
    "name": "ipython",
    "version": 3
   },
   "file_extension": ".py",
   "mimetype": "text/x-python",
   "name": "python",
   "nbconvert_exporter": "python",
   "pygments_lexer": "ipython3",
   "version": "3.7.4"
  }
 },
 "nbformat": 4,
 "nbformat_minor": 2
}
